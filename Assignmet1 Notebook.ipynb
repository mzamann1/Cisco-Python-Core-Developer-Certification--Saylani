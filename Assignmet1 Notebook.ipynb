{
 "cells": [
  {
   "cell_type": "code",
   "execution_count": 4,
   "metadata": {},
   "outputs": [
    {
     "name": "stdout",
     "output_type": "stream",
     "text": [
      "Twinkle, twinkle, little star,\n",
      "\tHow I wonder what you are!\n",
      "\t\tUp above the world so high,\n",
      "\t\tLike a diamond inthe sky.\n",
      "Twinkle, twinkle, little star,\n",
      "\tHow I wonder what you are\n"
     ]
    }
   ],
   "source": [
    "print(\"Twinkle, twinkle, little star,\\n\\tHow I wonder what you are!\\n\\t\\tUp above the world so high,\\n\\t\\tLike a diamond inthe sky.\\nTwinkle, twinkle, little star,\\n\\tHow I wonder what you are\")"
   ]
  },
  {
   "cell_type": "code",
   "execution_count": 2,
   "metadata": {},
   "outputs": [
    {
     "name": "stdout",
     "output_type": "stream",
     "text": [
      "3.7.4 (tags/v3.7.4:e09359112e, Jul  8 2019, 20:34:20) [MSC v.1916 64 bit (AMD64)]\n"
     ]
    }
   ],
   "source": [
    "import sys\n",
    "print(sys.version)"
   ]
  },
  {
   "cell_type": "code",
   "execution_count": 7,
   "metadata": {},
   "outputs": [
    {
     "name": "stdout",
     "output_type": "stream",
     "text": [
      "2019-11-01 21:29:12.024541\n"
     ]
    }
   ],
   "source": [
    "import datetime\n",
    "date = datetime.datetime.now()\n",
    "print(date)"
   ]
  },
  {
   "cell_type": "code",
   "execution_count": 34,
   "metadata": {},
   "outputs": [
    {
     "name": "stdout",
     "output_type": "stream",
     "text": [
      "Enter Radius in Meters :5\n",
      "78.54m\n"
     ]
    }
   ],
   "source": [
    "import math\n",
    "import sys\n",
    "\n",
    "def AreaCalc(radius):\n",
    "        #Rounding values\n",
    "        #imported pi from math module/library\n",
    "        return str(round(math.pi*radius**2,3))+\"m\"\n",
    "    \n",
    "#getting radius\n",
    "r=input(\"Enter Radius in Meters :\")\n",
    "#checking if only numbers are provided\n",
    "#isnumeric() allows - values , where as i need only positive values so isdigit() is prefered\n",
    "if r.isdigit():\n",
    "    print(AreaCalc(int(r)))\n",
    "else:\n",
    "    print(\"Only Numeric/Positive Values are allowed!!\")"
   ]
  },
  {
   "cell_type": "code",
   "execution_count": 35,
   "metadata": {},
   "outputs": [
    {
     "name": "stdout",
     "output_type": "stream",
     "text": [
      "Enter Radius in Meters :-3\n",
      "Only Numeric/Positive Values are allowed!!\n"
     ]
    }
   ],
   "source": [
    "import math\n",
    "import sys\n",
    "\n",
    "def AreaCalc(radius):\n",
    "        #Rounding values\n",
    "        #imported pi from math module/library\n",
    "        return str(round(math.pi*radius**2,3))+\"m\"\n",
    "    \n",
    "#getting radius\n",
    "r=input(\"Enter Radius in Meters :\")\n",
    "#checking if only numbers are provided\n",
    "#isnumeric() allows - values , where as i need only positive values so isdigit() is prefered\n",
    "if r.isdigit():\n",
    "    print(AreaCalc(int(r)))\n",
    "else:\n",
    "    print(\"Only Numeric/Positive Values are allowed!!\")"
   ]
  },
  {
   "cell_type": "code",
   "execution_count": 50,
   "metadata": {},
   "outputs": [
    {
     "name": "stdout",
     "output_type": "stream",
     "text": [
      "Enter First Name and Last Name : //Seperated by comma ',' Muhammad,Zaman\n",
      "Zaman Muhammad"
     ]
    }
   ],
   "source": [
    "inp =input(\"Enter First Name and Last Name : //Seperated by comma ',' \")\n",
    "\n",
    "index=inp.index(',')\n",
    "\n",
    "for i in range(index+1,len(inp)):\n",
    "    print(inp[i],end=\"\")\n",
    "\n",
    "print(\" \",end=\"\")\n",
    "    \n",
    "for i in range(0,index):\n",
    "    print(inp[i],end=\"\")\n",
    "\n",
    "\n",
    "    \n"
   ]
  },
  {
   "cell_type": "code",
   "execution_count": 54,
   "metadata": {},
   "outputs": [
    {
     "name": "stdout",
     "output_type": "stream",
     "text": [
      "Enter 1st number: 3\n",
      "Enter 2nd number: 4\n",
      "7\n"
     ]
    }
   ],
   "source": [
    "def Sum(a=0,b=0):\n",
    "    return a+b\n",
    "\n",
    "inp1=input(\"Enter 1st number: \")\n",
    "inp2=input(\"Enter 2nd number: \")\n",
    "\n",
    "if (inp1.isnumeric() and inp2.isnumeric()):\n",
    "    print(Sum(int(inp1),int(inp2)))"
   ]
  },
  {
   "cell_type": "code",
   "execution_count": null,
   "metadata": {},
   "outputs": [],
   "source": []
  }
 ],
 "metadata": {
  "kernelspec": {
   "display_name": "Python 3",
   "language": "python",
   "name": "python3"
  },
  "language_info": {
   "codemirror_mode": {
    "name": "ipython",
    "version": 3
   },
   "file_extension": ".py",
   "mimetype": "text/x-python",
   "name": "python",
   "nbconvert_exporter": "python",
   "pygments_lexer": "ipython3",
   "version": "3.7.4"
  }
 },
 "nbformat": 4,
 "nbformat_minor": 2
}
