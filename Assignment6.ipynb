{
 "cells": [
  {
   "cell_type": "code",
   "execution_count": 11,
   "metadata": {},
   "outputs": [
    {
     "name": "stdout",
     "output_type": "stream",
     "text": [
      "Corolla XLI\n",
      "2015\n",
      "jet-black\n",
      "4100000\n",
      "Toyota\n",
      "===================================================================\n",
      "Corolla GLI\n",
      "2017\n",
      "black\n",
      "3400000\n",
      "Toyota\n",
      "===================================================================\n",
      "Honda City\n",
      "2018\n",
      "matt-black\n",
      "4400000\n",
      "Honda\n",
      "===================================================================\n",
      "Honda Accord\n",
      "2016\n",
      "light-blue\n",
      "4300000\n",
      "Honda\n",
      "===================================================================\n"
     ]
    }
   ],
   "source": [
    "'''Q5'''\n",
    "class Car:\n",
    "    \n",
    " \n",
    "    \n",
    "    def __init__(self,model,color,name,price,manufacturer):\n",
    "        self.model=model\n",
    "        self.color=color\n",
    "        self.name=name\n",
    "        self.price=price\n",
    "        self.manufacturer=manufacturer\n",
    "    \n",
    "    def getName(self):\n",
    "        return self.name\n",
    "    \n",
    "    def getModel(self):\n",
    "        return self.model\n",
    "    \n",
    "    def getColor(self):\n",
    "        return self.color\n",
    "    \n",
    "    def getPrice(self):\n",
    "        return self.price\n",
    "    \n",
    "    def getManufacturer(self):\n",
    "        return self.manufacturer\n",
    "    \n",
    "\n",
    "x=Car(\"2015\",\"jet-black\",\"Corolla XLI\",\"4100000\",\"Toyota\")\n",
    "print(x.getName())\n",
    "print(x.getModel())\n",
    "print(x.getColor())\n",
    "print(x.getPrice())\n",
    "print(x.getManufacturer())\n",
    "print(\"===================================================================\")\n",
    "y=Car(\"2017\",\"black\",\"Corolla GLI\",\"3400000\",\"Toyota\")\n",
    "print(y.getName())\n",
    "print(y.getModel())\n",
    "print(y.getColor())\n",
    "print(y.getPrice())\n",
    "print(y.getManufacturer())\n",
    "print(\"===================================================================\")\n",
    "z=Car(\"2018\",\"matt-black\",\"Honda City\",\"4400000\",\"Honda\")\n",
    "print(z.getName())\n",
    "print(z.getModel())\n",
    "print(z.getColor())\n",
    "print(z.getPrice())\n",
    "print(z.getManufacturer())\n",
    "print(\"===================================================================\")\n",
    "a=Car(\"2016\",\"light-blue\",\"Honda Accord\",\"4300000\",\"Honda\")\n",
    "print(a.getName())\n",
    "print(a.getModel())\n",
    "print(a.getColor())\n",
    "print(a.getPrice())\n",
    "print(a.getManufacturer())\n",
    "print(\"===================================================================\")\n"
   ]
  },
  {
   "cell_type": "code",
   "execution_count": null,
   "metadata": {},
   "outputs": [],
   "source": [
    "'''\n",
    "Q4:\n",
    "\n",
    "\n",
    "Class:\n",
    "    a blue print of real life object describing its attributes and behaviour,\n",
    "    it is a reference type,\n",
    "    doesn't take memory space until its object is created/instantiated.\n",
    "    \n",
    "\n",
    "Object:\n",
    "    an instance of class,\n",
    "    takes memory block according to the class size\n",
    "\n",
    "\n",
    "Atrribute:\n",
    "    a characteristic of a class,\n",
    "    for example : Car \n",
    "                    model number,color,price,no of seats,manufacturer etc\n",
    "\n",
    "Method:\n",
    "    an action that can be perform by a class/object\n",
    "    \n",
    "    for example: MoveForward,MoveBackward,MoveRight,MoveLeft,PressHorn,ApplyBrakes etc\n",
    "'''\n",
    "    "
   ]
  },
  {
   "cell_type": "code",
   "execution_count": 12,
   "metadata": {},
   "outputs": [
    {
     "data": {
      "text/plain": [
       "'\\nA function is a piece of code that is called by name. It can be passed data to operate on (i.e. the parameters) and can optionally return data (the return value). All data that is passed to a function is explicitly passed.\\n\\nA method is a piece of code that is called by a name that is associated with an object. In most respects it is identical to a function except for two key differences:\\n\\nA method is implicitly passed the object on which it was called.\\nA method is able to operate on data that is contained within the class (remembering that an object is an instance of a class - the class is the definition, the object is an instance of that data).\\n\\n\\n'"
      ]
     },
     "execution_count": 12,
     "metadata": {},
     "output_type": "execute_result"
    }
   ],
   "source": [
    "'''\n",
    "Q3:\n",
    "\n",
    "\n",
    "A function is a piece of code that is called by name. It can be passed data to operate on (i.e. the parameters) and can optionally return data (the return value). All data that is passed to a function is explicitly passed.\n",
    "\n",
    "A method is a piece of code that is called by a name that is associated with an object. In most respects it is identical to a function except for two key differences:\n",
    "\n",
    "A method is implicitly passed the object on which it was called.\n",
    "A method is able to operate on data that is contained within the class (remembering that an object is an instance of a class - the class is the definition, the object is an instance of that data).\n",
    "\n",
    "\n",
    "'''\n"
   ]
  },
  {
   "cell_type": "code",
   "execution_count": null,
   "metadata": {},
   "outputs": [],
   "source": [
    "'''\n",
    "Q2:\n",
    "\n",
    "\n",
    "It provides a clear modular structure for programs which makes it good for defining abstract datatypes in which implementation details are hidden\n",
    "Objects can also be reused within an across applications. The reuse of software also lowers the cost of development. More effort is put into the object-oriented analysis and design, which lowers the overall cost of development.\n",
    "It makes software easier to maintain. Since the design is modular, part of the system can be updated in case of issues without a need to make large-scale changes\n",
    "Reuse also enables faster development. Object-oriented programming languages come with rich libraries of objects, and code developed during projects is also reusable in future projects.\n",
    "It provides a good framework for code libraries where the supplied software components can be easily adapted and modified by the programmer. This is particularly useful for developing graphical user interfaces.\n",
    "Better Productivity as OOP techniques enforce rules on a programmer that, in the long run, help her get more work done; finished programs work better, have more features and are easier to read and maintain. OOP programmers take new and existing software objects and \"stitch\" them together to make new programs. Because object libraries contain many useful functions, software developers don't have to reinvent the wheel as often; more of their time goes into making the new program.\n",
    "\n",
    "'''"
   ]
  },
  {
   "cell_type": "code",
   "execution_count": null,
   "metadata": {},
   "outputs": [],
   "source": [
    "'''\n",
    "Q1:\n",
    "\n",
    "\n",
    "Object-oriented programming (OOP) refers to a type of computer programming (software design) in which programmers define the data type of a data structure, and also the types of operations (functions) that can be applied to the data structure.\n",
    "\n",
    "In this way, the data structure becomes an object that includes both data and functions. In addition, programmers can create relationships between one object and another. For example, objects can inherit characteristics from other objects.\n",
    "\n",
    "'''"
   ]
  },
  {
   "cell_type": "code",
   "execution_count": null,
   "metadata": {},
   "outputs": [],
   "source": []
  }
 ],
 "metadata": {
  "kernelspec": {
   "display_name": "Python 3",
   "language": "python",
   "name": "python3"
  },
  "language_info": {
   "codemirror_mode": {
    "name": "ipython",
    "version": 3
   },
   "file_extension": ".py",
   "mimetype": "text/x-python",
   "name": "python",
   "nbconvert_exporter": "python",
   "pygments_lexer": "ipython3",
   "version": "3.7.4"
  }
 },
 "nbformat": 4,
 "nbformat_minor": 2
}
