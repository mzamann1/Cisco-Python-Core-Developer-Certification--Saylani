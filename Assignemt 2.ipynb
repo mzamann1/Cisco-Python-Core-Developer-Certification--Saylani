{
 "cells": [
  {
   "cell_type": "code",
   "execution_count": 1,
   "metadata": {},
   "outputs": [],
   "source": [
    "import numpy as np"
   ]
  },
  {
   "cell_type": "code",
   "execution_count": 6,
   "metadata": {},
   "outputs": [
    {
     "name": "stdout",
     "output_type": "stream",
     "text": [
      "60\n",
      "60\n",
      "50\n",
      "60\n",
      "50\n",
      "6\n",
      "[60, 60, 50, 60, 50]\n",
      "5\n",
      "56.0\n",
      "You got 56.0% ..\n",
      " Remarks : C\n"
     ]
    }
   ],
   "source": [
    "#marksheet program\n",
    "def GradeProcess(per):\n",
    "    if(per<50):\n",
    "        print(\"Sorry! You got \"+str(per)+\"% ..\\n Remarks : Failed\")\n",
    "    elif (per>=51 and per<60):\n",
    "        print(\"You got \"+str(per)+\"% ..\\n Remarks : C\")\n",
    "    elif (per>=60 and per<70):\n",
    "        print(\"You got \"+str(per)+\"% ..\\n Remarks : B\")\n",
    "    elif (per>=70 and per<80):\n",
    "        print(\"You got \"+str(per)+\"% ..\\n Remarks : A\")\n",
    "    elif (per>=80 and per<=100):\n",
    "        print(\"You got \"+str(per)+\"% ..\\n Remarks : A+\")\n",
    "    else:\n",
    "        print(\"Error:\")\n",
    "\n",
    "def TakeInput():\n",
    "    list=[]\n",
    "    i=0\n",
    "    while (i <=4):\n",
    "        inp=input(\"Enter Marks For Each Subject:\")\n",
    "        if(inp.isdigit() and (int(inp)<=100)):\n",
    "            list.append(int(inp))\n",
    "            i=i+1\n",
    "        else:\n",
    "            print(\"Enter a Valid Num Again\")\n",
    "            print(i)\n",
    "            if(i>0):\n",
    "                --i\n",
    "    return Calc(list,i)\n",
    "\n",
    "def Calc(list,max):\n",
    "    sum=np.sum(list)\n",
    "    per=(sum*100)/(max*100)\n",
    "    return per\n",
    "    \n",
    "\n",
    "    \n",
    "perc = TakeInput()\n",
    "GradeProcess(perc)\n"
   ]
  },
  {
   "cell_type": "code",
   "execution_count": 8,
   "metadata": {},
   "outputs": [
    {
     "name": "stdout",
     "output_type": "stream",
     "text": [
      "3\n"
     ]
    }
   ],
   "source": [
    "#print length of lsit\n",
    "list=[2,3,'a']\n",
    "print(len(list))"
   ]
  },
  {
   "cell_type": "code",
   "execution_count": 9,
   "metadata": {},
   "outputs": [
    {
     "name": "stdout",
     "output_type": "stream",
     "text": [
      "15\n"
     ]
    }
   ],
   "source": [
    "#sum of elements in the list\n",
    "list=[1,2,3,4,5]\n",
    "print(np.sum(list))"
   ]
  },
  {
   "cell_type": "code",
   "execution_count": 10,
   "metadata": {},
   "outputs": [
    {
     "name": "stdout",
     "output_type": "stream",
     "text": [
      "89\n"
     ]
    }
   ],
   "source": [
    "#Find Largest from the list\n",
    "list=[1,1,2,3,5,8,13,21,34,55,89]\n",
    "\n",
    "def FindLargest(list,length):\n",
    "    max = list[0]\n",
    "    for i in range(0,length):\n",
    "        if list[i] > max:\n",
    "            max=list[i]\n",
    "    return max\n",
    "\n",
    "print(FindLargest(list,len(list)))"
   ]
  },
  {
   "cell_type": "code",
   "execution_count": 13,
   "metadata": {},
   "outputs": [
    {
     "name": "stdout",
     "output_type": "stream",
     "text": [
      "Enter any number6\n",
      "Even\n"
     ]
    }
   ],
   "source": [
    "#Even or Odd\n",
    "inp=input(\"Enter any number\")\n",
    "if (inp.isnumeric()):\n",
    "    num =int(inp)\n",
    "    if(num%2==0):\n",
    "        print(\"Even\")\n",
    "    else:\n",
    "        print(\"Odd\")\n",
    "else:\n",
    "    print(\"Only Nymumbers are allowed\")"
   ]
  },
  {
   "cell_type": "code",
   "execution_count": 14,
   "metadata": {},
   "outputs": [
    {
     "name": "stdout",
     "output_type": "stream",
     "text": [
      "[1, 1, 2, 3, 5, 8, 13, 21, 34, 55, 89]\n"
     ]
    }
   ],
   "source": [
    "print(list)"
   ]
  },
  {
   "cell_type": "code",
   "execution_count": 15,
   "metadata": {},
   "outputs": [
    {
     "name": "stdout",
     "output_type": "stream",
     "text": [
      "1\n",
      "1\n",
      "2\n",
      "3\n"
     ]
    }
   ],
   "source": [
    "#Print nums that are less than 5\n",
    "for i in range(0,len(list)-1):\n",
    "    if(list[i]<5):\n",
    "        print(list[i])\n"
   ]
  },
  {
   "cell_type": "code",
   "execution_count": null,
   "metadata": {},
   "outputs": [],
   "source": []
  }
 ],
 "metadata": {
  "kernelspec": {
   "display_name": "Python 3",
   "language": "python",
   "name": "python3"
  },
  "language_info": {
   "codemirror_mode": {
    "name": "ipython",
    "version": 3
   },
   "file_extension": ".py",
   "mimetype": "text/x-python",
   "name": "python",
   "nbconvert_exporter": "python",
   "pygments_lexer": "ipython3",
   "version": "3.7.4"
  }
 },
 "nbformat": 4,
 "nbformat_minor": 2
}
