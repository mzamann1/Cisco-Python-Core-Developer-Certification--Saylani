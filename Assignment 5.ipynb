{
 "cells": [
  {
   "cell_type": "code",
   "execution_count": 5,
   "metadata": {},
   "outputs": [
    {
     "name": "stdout",
     "output_type": "stream",
     "text": [
      "Input Num : \t123131ada\n"
     ]
    }
   ],
   "source": [
    "# Q5    factorial\n",
    "\n",
    "def Fact(num):\n",
    "    if (num==1):\n",
    "        return 1\n",
    "    else:\n",
    "        return num*Fact(num-1)\n",
    "\n",
    "    \n",
    "inp=input(\"Input Num : \\t\")\n",
    "if (inp.isdigit()):\n",
    "    val=int(inp)\n",
    "    print(\"Factorial is \",Fact(val))"
   ]
  },
  {
   "cell_type": "code",
   "execution_count": 9,
   "metadata": {},
   "outputs": [
    {
     "name": "stdout",
     "output_type": "stream",
     "text": [
      "Input String : \tHellO\n",
      "Lower Case Letters Are : 3 \n",
      "Upper Case Letters Are : 2\n"
     ]
    }
   ],
   "source": [
    "#Count Upper Case and Lower Case\n",
    "\n",
    "str=input(\"Input String : \\t\")\n",
    "upperC=0\n",
    "lowerC=0\n",
    "for i in str:\n",
    "    if (i.islower()):\n",
    "        lowerC+=1\n",
    "    if (i.isupper()):\n",
    "        upperC+=1\n",
    "\n",
    "\n",
    "print(\"Lower Case Letters Are :\",lowerC, \"\\nUpper Case Letters Are :\",upperC)"
   ]
  },
  {
   "cell_type": "code",
   "execution_count": 10,
   "metadata": {},
   "outputs": [
    {
     "name": "stdout",
     "output_type": "stream",
     "text": [
      "2 is an even number\n",
      "4 is an even number\n",
      "6 is an even number\n",
      "8 is an even number\n",
      "10 is an even number\n",
      "12 is an even number\n"
     ]
    }
   ],
   "source": [
    "#Write a Python function to print the even numbers from a given list.\n",
    "\n",
    "\n",
    "list=[2,3,4,5,6,7,8,10,11,12]\n",
    "\n",
    "def FindEven(l):\n",
    "    evenC=0\n",
    "    for i in l:\n",
    "    if (i%2==0):\n",
    "        evenC+=1\n",
    "        print(i, \"is an even number\")\n",
    "\n",
    "FindEven(list)"
   ]
  },
  {
   "cell_type": "code",
   "execution_count": 22,
   "metadata": {},
   "outputs": [
    {
     "name": "stdout",
     "output_type": "stream",
     "text": [
      "Enter Any Number: \t6\n",
      "6\n",
      "Not a Prime Number\n"
     ]
    }
   ],
   "source": [
    "'''Write a Python function that takes a number as a parameter and check the\n",
    "number is prime or not.'''\n",
    "\n",
    "def CheckPrime(num):\n",
    "    print(num)\n",
    "    for i in range(2,num):\n",
    "        if (num % i) == 0:\n",
    "            print(\"Not a Prime Number\")\n",
    "            break\n",
    "        else:\n",
    "            print(\"Prime Number\")\n",
    "            break\n",
    "            \n",
    "\n",
    "            \n",
    "       \n",
    "\n",
    "inp=input(\"Enter Any Number: \\t\")\n",
    "if (inp.isdigit()):\n",
    "    val=int(inp)\n",
    "    if (val>1):\n",
    "        CheckPrime(val)\n",
    "    else:\n",
    "        print(\"Enter Value > 1\")\n",
    "else:\n",
    "    print(\"Not a Number\")\n",
    "    \n",
    "     \n"
   ]
  },
  {
   "cell_type": "code",
   "execution_count": 23,
   "metadata": {},
   "outputs": [
    {
     "name": "stdout",
     "output_type": "stream",
     "text": [
      "Palindrome\n"
     ]
    }
   ],
   "source": [
    "#Palindrome\n",
    "\n",
    "string = \"mam\"\n",
    "rev = string[::-1]\n",
    "if (string == rev):\n",
    "    print(\"Palindrome\")\n",
    "else:\n",
    "    print(\"Not Palindrome\")"
   ]
  },
  {
   "cell_type": "code",
   "execution_count": null,
   "metadata": {},
   "outputs": [],
   "source": []
  }
 ],
 "metadata": {
  "kernelspec": {
   "display_name": "Python 3",
   "language": "python",
   "name": "python3"
  },
  "language_info": {
   "codemirror_mode": {
    "name": "ipython",
    "version": 3
   },
   "file_extension": ".py",
   "mimetype": "text/x-python",
   "name": "python",
   "nbconvert_exporter": "python",
   "pygments_lexer": "ipython3",
   "version": "3.7.4"
  }
 },
 "nbformat": 4,
 "nbformat_minor": 2
}
