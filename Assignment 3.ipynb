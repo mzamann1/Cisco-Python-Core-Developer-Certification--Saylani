{
 "cells": [
  {
   "cell_type": "code",
   "execution_count": 12,
   "metadata": {},
   "outputs": [
    {
     "name": "stdout",
     "output_type": "stream",
     "text": [
      "Select Operation You Want To Perform:\n",
      " 1. Add\n",
      " 2.Subtraction\n",
      "3.Multiplication\n",
      "4.Division\n",
      "5.Exponential\n",
      "Enter Your Choice : \t4\n",
      "Enter 1st Num : \t5\n",
      "Enter 2nd Num : \t0\n",
      "Divided By Zero Exception\n"
     ]
    }
   ],
   "source": [
    "#calculator\n",
    "\n",
    "\n",
    "#addition\n",
    "def add(x,y):\n",
    "    return x+y\n",
    "\n",
    "#subtraction\n",
    "def sub(x,y):\n",
    "    return x-y\n",
    "#multikication\n",
    "def mul(x,y):\n",
    "    return x*y\n",
    "#division\n",
    "def div(x,y):\n",
    "    if y!=0:\n",
    "        return x/y\n",
    "    else:\n",
    "        return \"Divided By Zero Exception\"\n",
    "#power\n",
    "def power(x,y):\n",
    "    if x==0:\n",
    "        return 0\n",
    "    elif x!=0 and  y==0:\n",
    "        return 1\n",
    "    else:\n",
    "        return x ** y\n",
    "    \n",
    "#predefining list to compare input choice\n",
    "list =[1,2,3,4,5]\n",
    "print(\"Select Operation You Want To Perform:\\n 1. Add\\n 2.Subtraction\\n3.Multiplication\\n4.Division\\n5.Exponential\");\n",
    "inp=input(\"Enter Your Choice : \\t\")\n",
    "#if input is a number\n",
    "if inp.isdigit():\n",
    "    #convert it into an integer type\n",
    "    value=int(inp)\n",
    "    #if number is in my list\n",
    "    if value in list:\n",
    "        #proceed and take input to perform operations\n",
    "        val1=input(\"Enter 1st Num : \\t\")\n",
    "        val2=input(\"Enter 2nd Num : \\t\")\n",
    "        #checking if inputs are numbers or not\n",
    "        if not (val1.isdigit() or val2.isdigit()):\n",
    "            #if not then print \n",
    "            print(\"Must Be Numbers\")\n",
    "        else:\n",
    "            #if yes , proceed\n",
    "            val1=int(val1)\n",
    "            val2=int(val2)\n",
    "            if value is 1:\n",
    "                print(add(val1,val2))\n",
    "            elif value is 2:\n",
    "                print(sub(val1,val2))\n",
    "            elif value is 3:\n",
    "                print(mul(val1,val2))\n",
    "            elif value is 4:\n",
    "                print(div(val1,val2))\n",
    "            elif value is 5:\n",
    "                print(power(val1,val2))\n",
    "    else:\n",
    "        print(\"Wrong Choice\")\n",
    "else:\n",
    "    print(\"Must Be Integer\")\n",
    "                    \n",
    "            "
   ]
  },
  {
   "cell_type": "code",
   "execution_count": 17,
   "metadata": {},
   "outputs": [
    {
     "name": "stdout",
     "output_type": "stream",
     "text": [
      "{1: 'Muhammad', 2: 'Zaman'}\n",
      "{1: 'Muhammad', 2: 'Zaman', 3: 'Karachi'}\n"
     ]
    }
   ],
   "source": [
    "#Write a Python script to add a key to a dictionary\n",
    "\n",
    "\n",
    "dict={1:\"Muhammad\",2:\"Zaman\"}\n",
    "print(dict)\n",
    "dict[3]=\"Karachi\"\n",
    "print(dict)"
   ]
  },
  {
   "cell_type": "code",
   "execution_count": 18,
   "metadata": {},
   "outputs": [
    {
     "name": "stdout",
     "output_type": "stream",
     "text": [
      "Sum is : \t  1030\n"
     ]
    }
   ],
   "source": [
    "#Write a Python program to sum all the numeric items in a dictionary\n",
    "\n",
    "\n",
    "\n",
    "def SumOfItemsInDictionary(dict):\n",
    "    sum=0\n",
    "    for i in dict.values():\n",
    "        sum+=i\n",
    "    return sum\n",
    "\n",
    "d={'x':350,'y':400,'z':280}\n",
    "print(\"Sum is : \\t \",SumOfItemsInDictionary(d))"
   ]
  },
  {
   "cell_type": "code",
   "execution_count": 21,
   "metadata": {},
   "outputs": [
    {
     "name": "stdout",
     "output_type": "stream",
     "text": [
      "['a', 1]\n"
     ]
    }
   ],
   "source": [
    "#Write a program to identify duplicate values from list\n",
    "\n",
    "def Check(list):\n",
    "    size=len(list)\n",
    "    duplicated=[]\n",
    "    for i in range(size):\n",
    "        for j in range(i+1,size):\n",
    "            if list[i]==list[j] and list[i] not in duplicated:\n",
    "                duplicated.append(list[i])\n",
    "    return duplicated\n",
    "\n",
    "\n",
    "list=['a',1,'a','b',2,'c',1,'d','e',5]\n",
    "print(Check(list))"
   ]
  },
  {
   "cell_type": "code",
   "execution_count": 22,
   "metadata": {},
   "outputs": [
    {
     "name": "stdout",
     "output_type": "stream",
     "text": [
      "YES\n",
      "YES\n",
      "No\n"
     ]
    }
   ],
   "source": [
    "#Write a Python script to check if a given key already exists in a dictionary\n",
    "dict={1:'Muhammad',2:'Zaman'}\n",
    "def isExists(key):\n",
    "    if key in dict:\n",
    "        print(\"YES\")\n",
    "    else:\n",
    "        print(\"No\")\n",
    "\n",
    "isExists(1)\n",
    "isExists(2)\n",
    "isExists(3)"
   ]
  },
  {
   "cell_type": "code",
   "execution_count": 29,
   "metadata": {},
   "outputs": [
    {
     "name": "stdout",
     "output_type": "stream",
     "text": [
      "Numerics FOund:  3\n"
     ]
    }
   ],
   "source": [
    "#Write a program to check if there is any numeric value in list using for loop\n",
    "\n",
    "list=['a','1','a','b','23','c','45','d','e']\n",
    "cnt=0\n",
    "for i in list:\n",
    "    if i.isnumeric():\n",
    "        cnt=cnt+1\n",
    "\n",
    "if (cnt>0):\n",
    "    print(\"Numerics FOund: \",cnt)\n",
    "else:\n",
    "    print(\"Not Found\")"
   ]
  },
  {
   "cell_type": "code",
   "execution_count": null,
   "metadata": {},
   "outputs": [],
   "source": []
  }
 ],
 "metadata": {
  "kernelspec": {
   "display_name": "Python 3",
   "language": "python",
   "name": "python3"
  },
  "language_info": {
   "codemirror_mode": {
    "name": "ipython",
    "version": 3
   },
   "file_extension": ".py",
   "mimetype": "text/x-python",
   "name": "python",
   "nbconvert_exporter": "python",
   "pygments_lexer": "ipython3",
   "version": "3.7.4"
  }
 },
 "nbformat": 4,
 "nbformat_minor": 2
}
