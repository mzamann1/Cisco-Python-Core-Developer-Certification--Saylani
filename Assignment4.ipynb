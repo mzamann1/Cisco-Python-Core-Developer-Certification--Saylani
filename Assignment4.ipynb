{
 "cells": [
  {
   "cell_type": "code",
   "execution_count": 1,
   "metadata": {},
   "outputs": [
    {
     "name": "stdout",
     "output_type": "stream",
     "text": [
      "One of My Favourite Book is : Let Us C#\n"
     ]
    }
   ],
   "source": [
    "#question 4\n",
    "\n",
    "def favourite_book(title):\n",
    "    print(\"One of My Favourite Book is :\",title)\n",
    "    \n",
    "\n",
    "favourite_book(\"Let Us C#\")"
   ]
  },
  {
   "cell_type": "code",
   "execution_count": 2,
   "metadata": {},
   "outputs": [],
   "source": [
    "from random import randint\n"
   ]
  },
  {
   "cell_type": "code",
   "execution_count": 5,
   "metadata": {},
   "outputs": [
    {
     "name": "stdout",
     "output_type": "stream",
     "text": [
      "17\n",
      "Guess the number : 1\n",
      "Life Remaining : 2\n",
      "Guess the number : 1\n",
      "Life Remaining : 1\n",
      "Guess the number : 1\n",
      "Life Remaining : 0\n"
     ]
    }
   ],
   "source": [
    "#Question5\n",
    "tries=0\n",
    "\n",
    "def Gen_random():\n",
    "    return randint(1,30)\n",
    "\n",
    "val=Gen_random()\n",
    "print(val)\n",
    "\n",
    "while (tries<3):\n",
    "    inp=input(\"Guess the number : \")\n",
    "    if(inp.isdigit()):\n",
    "        num=int(inp)\n",
    "        if (num!=val):\n",
    "            tries+=1\n",
    "            print(\"Life Remaining :\",3-tries)\n",
    "        else:\n",
    "            print(\"You Guessed it at attempt #\",tries)\n",
    "            tries=3"
   ]
  },
  {
   "cell_type": "code",
   "execution_count": 10,
   "metadata": {},
   "outputs": [
    {
     "name": "stdout",
     "output_type": "stream",
     "text": [
      "Press S to Stop The Loop,Other Wise Insert Your Age : 12\n",
      "Price is : \t $ 10\n",
      "Press S to Stop The Loop,Other Wise Insert Your Age : s\n"
     ]
    }
   ],
   "source": [
    "#qestion2\n",
    "def TicketPrice(age):\n",
    "    if (age>0 and age <3):\n",
    "        return 0\n",
    "    elif(age>=3 and age<=12):\n",
    "        return 10\n",
    "    elif(age>12):\n",
    "        return 15\n",
    "    else:\n",
    "        return 0\n",
    "        \n",
    "\n",
    "stop_flag = False\n",
    "while (stop_flag!=True):\n",
    "    inp=input(\"Press S to Stop The Loop,Other Wise Insert Your Age : \")\n",
    "    if(inp=='s' or inp=='S'):\n",
    "        stop_flag=True\n",
    "    else:\n",
    "        if(inp.isdigit()):\n",
    "            age=int(inp)\n",
    "            out=TicketPrice(age)\n",
    "            print(\"Price is : \\t $\",out)\n",
    "        else:\n",
    "            print(\"Age Must be number and >0\")"
   ]
  },
  {
   "cell_type": "code",
   "execution_count": 23,
   "metadata": {},
   "outputs": [
    {
     "name": "stdout",
     "output_type": "stream",
     "text": [
      "3\n",
      "City :\t  karachi\n",
      "country  :  Pakistan\n",
      "population  :  20M+\n",
      "fact  :  gutka, maawa, kiraanchi\n",
      "\n",
      "\n",
      "\n",
      "City :\t  islamabad\n",
      "country  :  Pakistan\n",
      "population  :  5M+\n",
      "fact  :  greenry, rain, capitalof pakistan\n",
      "\n",
      "\n",
      "\n",
      "City :\t  lahore\n",
      "country  :  Pakistan\n",
      "population  :  10M+\n",
      "fact  :  daddu biryani, khota pulao,daddu shawaarma\n",
      "\n",
      "\n",
      "\n"
     ]
    }
   ],
   "source": [
    "cities={\"karachi\":{\"country\":\"Pakistan\",\"population\":\"20M+\",\"fact\":\"gutka, maawa, kiraanchi\"},\"islamabad\":{\"country\":\"Pakistan\",\"population\":\"5M+\",\"fact\":\"greenry, rain, capitalof pakistan\"},\"lahore\":{\"country\":\"Pakistan\",\"population\":\"10M+\",\"fact\":\"daddu biryani, khota pulao,daddu shawaarma\"}}\n",
    "print(len(cities))\n",
    "for i in cities:\n",
    "    print(\"City :\\t \",i)\n",
    "    inner_dict=cities[i]\n",
    "    for j in inner_dict:\n",
    "        print(j+\"  :  \"+inner_dict[j])\n",
    "    print(\"\\n\\n\")"
   ]
  },
  {
   "cell_type": "code",
   "execution_count": null,
   "metadata": {},
   "outputs": [],
   "source": []
  }
 ],
 "metadata": {
  "kernelspec": {
   "display_name": "Python 3",
   "language": "python",
   "name": "python3"
  },
  "language_info": {
   "codemirror_mode": {
    "name": "ipython",
    "version": 3
   },
   "file_extension": ".py",
   "mimetype": "text/x-python",
   "name": "python",
   "nbconvert_exporter": "python",
   "pygments_lexer": "ipython3",
   "version": "3.7.4"
  }
 },
 "nbformat": 4,
 "nbformat_minor": 2
}
